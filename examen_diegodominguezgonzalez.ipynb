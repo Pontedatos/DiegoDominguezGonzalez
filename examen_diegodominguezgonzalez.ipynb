{
 "cells": [
  {
   "cell_type": "markdown",
   "metadata": {},
   "source": [
    " # Bloque B de Preguntas Examen teórico: *Diego Domínguez González*"
   ]
  },
  {
   "cell_type": "markdown",
   "metadata": {},
   "source": [
    "## 1.- ¿Quién es Philip Meyer?\n",
    "Philip Meyer es un periodista norteamericano que fue el precursor de uno de los periodismos más fiables, el de precisión o científico, llamado también CAR (Computer Assisted Reporting), el cual se ayudaba de los ordenadores para mostrar los datos más detalladamente.\n"
   ]
  },
  {
   "cell_type": "markdown",
   "metadata": {},
   "source": [
    "## 2.- ¿Quién es Florence Nightingale?\n",
    "Florence Nightingale fue una enfermera con una gran capacidad para las matemáticas y la estadística que realizó varios avances en esos dos campos durante el siglo XIX. En el de la estadística, realizó por primera vez ella diagramas y gráficos para representar mejor los datos de su trabajo."
   ]
  },
  {
   "cell_type": "markdown",
   "metadata": {},
   "source": [
    "## 3.- ¿Cuál fue el comienzo del CAR (Computer Assited Reporting)?\n",
    "Este tipo de periodismo es, como su propio nombre indica, uno asistido por un ordenador y actualmente se le sigue llamando de esta forma. Empezó a mediados de los años 50 en Estados Unidos con el nombre de 'periodismo de precisión', término acuñado por Philip Meyer."
   ]
  },
  {
   "cell_type": "markdown",
   "metadata": {},
   "source": [
    "## 4.- ¿Qué es nano?\n",
    "Nano es un programa que sirve para editar textos para la terminal de un ordenador.\n"
   ]
  },
  {
   "cell_type": "markdown",
   "metadata": {},
   "source": [
    "## 5.- ¿Cuál es la estructura de las sentencias/instrucciones en la línea de comandos?\n",
    "Es la manera en la que se ejecutan las instrucciones que hemos implementado en nuestra terminal, siendo esta una estructura de árbol."
   ]
  },
  {
   "cell_type": "markdown",
   "metadata": {},
   "source": [
    "## 6.- ¿Cuál es la versión de Shell qué utilizas?\n",
    "BASH\n"
   ]
  },
  {
   "cell_type": "markdown",
   "metadata": {},
   "source": [
    "## 7.- ¿Cómo verías las variable de entorno de tu shell \"PATH\"? Escribe su valor también.\n",
    "$ echo $PATH\n",
    "\n",
    "/usr/local/bin:/usr/bin:/cygdrive/c/Program Files (x86)/Common Files/Oracle/Java/javapath:/cygdrive/c/Program Files (x86)/Intel/iCLS Client:/cygdrive/c/Program Files/Intel/iCLS Client:/cygdrive/c/WINDOWS/system32:/cygdrive/c/WINDOWS:/cygdrive/c/WINDOWS/System32/Wbem:/cygdrive/c/WINDOWS/System32/WindowsPowerShell/v1.0:/cygdrive/c/Program Files (x86)/Intel/Intel(R) Management Engine Components/DAL:/cygdrive/c/Program Files/Intel/Intel(R) Management Engine Components/DAL:/cygdrive/c/Program Files (x86)/Intel/Intel(R) Management Engine Components/IPT:/cygdrive/c/Program Files/Intel/Intel(R) Management Engine Components/IPT:/cygdrive/c/WINDOWS/System32/OpenSSH:/cygdrive/c/Program Files/Intel/WiFi/bin:/cygdrive/c/Program Files/Common Files/Intel/WirelessCommon:/cygdrive/c/Program Files (x86)/Windows Live/Shared:/cygdrive/c/Program Files/Git/cmd:/cygdrive/c/Users/Diego/AppData/Local/Microsoft/WindowsApps\n"
   ]
  },
  {
   "cell_type": "markdown",
   "metadata": {},
   "source": [
    "## 8.- Cuál es el primer comando que deberías usar en la terminal. Explica tu respuesta.\n",
    "Se deben instalar los programas *lynx* y *wget*."
   ]
  },
  {
   "cell_type": "markdown",
   "metadata": {},
   "source": [
    "## 9.- ¿Qué se puede hacer para ver el contenido de un archivo de texto?"
   ]
  },
  {
   "cell_type": "markdown",
   "metadata": {},
   "source": [
    " ## 10.- Qué formatos de datos hay.\n",
    "Los más importantes y utilizados son tres, **SV o valores separados por cualquier valor, JSON (*JavaScript Objecto Notation*), notación de objetos JS y XML (*eXtensible Markup Language*) lenguaje de marcas extensible**. Los relacionados con JavaScript suelen ser los más utilizados en aplicaciones web debido a que utilizan sintaxis del propio JavaScript. Los CS son los más sencillos, encontrados al abrirse en formato CSV en los catálogos de Datos Abiertos."
   ]
  },
  {
   "cell_type": "markdown",
   "metadata": {},
   "source": [
    "# Examen Práctico : *Diego Domínguez González*"
   ]
  },
  {
   "cell_type": "code",
   "execution_count": 5,
   "metadata": {},
   "outputs": [
    {
     "ename": "SyntaxError",
     "evalue": "invalid syntax (<ipython-input-5-f5d0697c65fa>, line 1)",
     "output_type": "error",
     "traceback": [
      "\u001b[0;36m  File \u001b[0;32m\"<ipython-input-5-f5d0697c65fa>\"\u001b[0;36m, line \u001b[0;32m1\u001b[0m\n\u001b[0;31m    import https://api.covid19api.com/countries as pd\u001b[0m\n\u001b[0m                ^\u001b[0m\n\u001b[0;31mSyntaxError\u001b[0m\u001b[0;31m:\u001b[0m invalid syntax\n"
     ]
    }
   ],
   "source": [
    ">>> import https://api.covid19api.com/countries as pd\n",
    ">>> s = pd.Series(['Country', 'Slug', 'ISO2'], dtype='string')\n",
    ">>> print(s)\n",
    "0     Country\n",
    "1        Slug\n",
    "2        ISO2\n",
    "\n",
    "dtype: string "
   ]
  }
 ],
 "metadata": {
  "kernelspec": {
   "display_name": "Python 3",
   "language": "python",
   "name": "python3"
  },
  "language_info": {
   "codemirror_mode": {
    "name": "ipython",
    "version": 3
   },
   "file_extension": ".py",
   "mimetype": "text/x-python",
   "name": "python",
   "nbconvert_exporter": "python",
   "pygments_lexer": "ipython3",
   "version": "3.8.10"
  }
 },
 "nbformat": 4,
 "nbformat_minor": 4
}
